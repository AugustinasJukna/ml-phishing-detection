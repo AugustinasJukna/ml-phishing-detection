{
 "cells": [
  {
   "cell_type": "code",
   "execution_count": 42,
   "id": "14b2a2a5-a2a9-4286-ba88-8a0eb436de54",
   "metadata": {},
   "outputs": [],
   "source": [
    "import numpy as np\n",
    "from scipy.io import arff\n",
    "import pandas as pd\n",
    "from sklearn.preprocessing import LabelEncoder\n",
    "from sklearn.model_selection import train_test_split\n",
    "from sklearn.tree import DecisionTreeClassifier\n",
    "from sklearn.metrics import make_scorer, accuracy_score, classification_report\n",
    "from imblearn.over_sampling import SMOTE\n",
    "from imblearn.under_sampling import RandomUnderSampler\n",
    "from imblearn.pipeline import Pipeline"
   ]
  },
  {
   "cell_type": "code",
   "execution_count": 5,
   "id": "ceb7142e-9e2c-4c4d-aa1b-1cb513fcd455",
   "metadata": {},
   "outputs": [],
   "source": [
    "data, meta = arff.loadarff('dataSet.arff')\n",
    "df = pd.DataFrame(data)\n",
    "df = df.astype(int)\n",
    "    \n",
    "X = df.drop('Result', axis=1)\n",
    "Y = df['Result']\n",
    "\n",
    "from sklearn.model_selection import train_test_split\n",
    "X_train, X_test, Y_train, Y_test = train_test_split(X, Y, test_size = 0.2, random_state = 2023)\n",
    "\n",
    "le = LabelEncoder()\n",
    "Y_train = le.fit_transform(Y_train)\n",
    "Y_test = le.fit_transform(Y_test)"
   ]
  },
  {
   "cell_type": "code",
   "execution_count": 56,
   "id": "7af2fc26-80c4-4e0d-b912-f5180f9c9575",
   "metadata": {},
   "outputs": [
    {
     "name": "stdout",
     "output_type": "stream",
     "text": [
      "Accuracy: 0.9525101763907734\n",
      "Classification Report:\n",
      "              precision    recall  f1-score   support\n",
      "\n",
      "           0       0.95      0.94      0.94       960\n",
      "           1       0.95      0.96      0.96      1251\n",
      "\n",
      "    accuracy                           0.95      2211\n",
      "   macro avg       0.95      0.95      0.95      2211\n",
      "weighted avg       0.95      0.95      0.95      2211\n",
      "\n",
      "Mean Accuracy: 0.9598592143732303\n"
     ]
    }
   ],
   "source": [
    "from sklearn.model_selection import cross_val_score\n",
    "decision_tree = DecisionTreeClassifier(random_state=2023)\n",
    "\n",
    "sampling_strategy_smote = {1: 5000, 0: 4898}\n",
    "sampling_strategy_undersample = {1: 4000, 0: 4898}\n",
    "\n",
    "\n",
    "\n",
    "model = Pipeline([\n",
    "    # ('over', SMOTE(sampling_strategy=sampling_strategy_smote)),  \n",
    "    # ('under', RandomUnderSampler(sampling_strategy=sampling_strategy_undersample)), \n",
    "    ('model', decision_tree)\n",
    "])\n",
    "\n",
    "model.fit(X_train, Y_train)\n",
    "\n",
    "y_pred = model.predict(X_test)\n",
    "print(\"Accuracy:\", accuracy_score(Y_test, y_pred))\n",
    "print(\"Classification Report:\")\n",
    "print(classification_report(Y_test, y_pred))\n",
    "\n",
    "\n",
    "scorer = make_scorer(accuracy_score)\n",
    "cv_scores = cross_val_score(model, X_train, Y_train, cv=5, scoring=scorer)\n",
    "\n",
    "mean_accuracy = cv_scores.mean()\n",
    "print(\"Mean Accuracy:\", mean_accuracy)"
   ]
  },
  {
   "cell_type": "code",
   "execution_count": null,
   "id": "927fdc2d-bfd8-47d2-b078-a5d6bac9f1dc",
   "metadata": {},
   "outputs": [],
   "source": [
    "Mean Accuracy: 0.9587281844946528"
   ]
  },
  {
   "cell_type": "code",
   "execution_count": 55,
   "id": "242e39e0-e939-4101-ba8f-a654c55458b4",
   "metadata": {},
   "outputs": [
    {
     "name": "stdout",
     "output_type": "stream",
     "text": [
      "1    4906\n",
      "0    3938\n",
      "dtype: int64\n"
     ]
    }
   ],
   "source": [
    "# Convert the NumPy array to a Pandas Series\n",
    "Y_train_series = pd.Series(Y_train)\n",
    "\n",
    "# Check the distribution of target classes\n",
    "class_distribution = Y_train_series.value_counts()\n",
    "print(class_distribution)"
   ]
  },
  {
   "cell_type": "code",
   "execution_count": null,
   "id": "34a98188-b113-4bce-9549-a09e65b3b79f",
   "metadata": {},
   "outputs": [],
   "source": []
  }
 ],
 "metadata": {
  "kernelspec": {
   "display_name": "Python 3 (ipykernel)",
   "language": "python",
   "name": "python3"
  },
  "language_info": {
   "codemirror_mode": {
    "name": "ipython",
    "version": 3
   },
   "file_extension": ".py",
   "mimetype": "text/x-python",
   "name": "python",
   "nbconvert_exporter": "python",
   "pygments_lexer": "ipython3",
   "version": "3.9.10"
  }
 },
 "nbformat": 4,
 "nbformat_minor": 5
}
